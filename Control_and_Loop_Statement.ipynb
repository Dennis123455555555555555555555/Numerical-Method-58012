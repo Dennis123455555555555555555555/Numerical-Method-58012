{
  "nbformat": 4,
  "nbformat_minor": 0,
  "metadata": {
    "colab": {
      "name": "Control_and_Loop_Statement.ipynb",
      "provenance": [],
      "authorship_tag": "ABX9TyMfaFg8QKw9X67uIGuQibM4",
      "include_colab_link": true
    },
    "kernelspec": {
      "name": "python3",
      "display_name": "Python 3"
    },
    "language_info": {
      "name": "python"
    }
  },
  "cells": [
    {
      "cell_type": "markdown",
      "metadata": {
        "id": "view-in-github",
        "colab_type": "text"
      },
      "source": [
        "<a href=\"https://colab.research.google.com/github/Dennis123455555555555555555555/Numerical-Method-58012/blob/main/Control_and_Loop_Statement.ipynb\" target=\"_parent\"><img src=\"https://colab.research.google.com/assets/colab-badge.svg\" alt=\"Open In Colab\"/></a>"
      ]
    },
    {
      "cell_type": "markdown",
      "source": [
        "If statement"
      ],
      "metadata": {
        "id": "ggjFIWIFSInU"
      }
    },
    {
      "cell_type": "code",
      "source": [
        "a=12\n",
        "b=100\n",
        "if b>a:\n",
        "  print(\"b is greater than a\")"
      ],
      "metadata": {
        "colab": {
          "base_uri": "https://localhost:8080/"
        },
        "id": "k66lrA6lSJY4",
        "outputId": "99ad5a76-7364-41b8-d82d-70a35add5a06"
      },
      "execution_count": 1,
      "outputs": [
        {
          "output_type": "stream",
          "name": "stdout",
          "text": [
            "b is greater than a\n"
          ]
        }
      ]
    },
    {
      "cell_type": "markdown",
      "source": [
        "If Elif Statement"
      ],
      "metadata": {
        "id": "bY4arXcMSigl"
      }
    },
    {
      "cell_type": "code",
      "source": [
        "a = 100\n",
        "b = 10\n",
        "if b>a:\n",
        "  print (\"b is greater than a\")\n",
        "elif a==b:\n",
        "  print(\"a and b are equal\")\n",
        "else:\n",
        "  print(\"a is greater than b\")"
      ],
      "metadata": {
        "colab": {
          "base_uri": "https://localhost:8080/"
        },
        "id": "v6Spq2sUSl48",
        "outputId": "dd3df3f5-11cc-435c-8ac2-95e5529bd999"
      },
      "execution_count": 2,
      "outputs": [
        {
          "output_type": "stream",
          "name": "stdout",
          "text": [
            "a is greater than b\n"
          ]
        }
      ]
    },
    {
      "cell_type": "markdown",
      "source": [
        "Else Statement"
      ],
      "metadata": {
        "id": "01wv1uy2SqVD"
      }
    },
    {
      "cell_type": "code",
      "source": [
        "a = 100\n",
        "b = 10\n",
        "if b>a:\n",
        "  print (\"b is greater than a\")\n",
        "elif a==b:\n",
        "  print (\"a and b are equal\")\n",
        "else:\n",
        "  print (\"a is greater than b\")"
      ],
      "metadata": {
        "colab": {
          "base_uri": "https://localhost:8080/"
        },
        "id": "4HN3qi93SszL",
        "outputId": "78ff2123-afb4-4fd0-d401-81052aeb114d"
      },
      "execution_count": 3,
      "outputs": [
        {
          "output_type": "stream",
          "name": "stdout",
          "text": [
            "a is greater than b\n"
          ]
        }
      ]
    },
    {
      "cell_type": "markdown",
      "source": [
        "Shorthand If statement"
      ],
      "metadata": {
        "id": "A3IjGP5KSyPU"
      }
    },
    {
      "cell_type": "code",
      "source": [
        "if a>b: print(\"a is greater than b\")"
      ],
      "metadata": {
        "colab": {
          "base_uri": "https://localhost:8080/"
        },
        "id": "88IzH8FLS0_z",
        "outputId": "a3d017ac-0dd9-4186-8027-5ed2b267d811"
      },
      "execution_count": 4,
      "outputs": [
        {
          "output_type": "stream",
          "name": "stdout",
          "text": [
            "a is greater than b\n"
          ]
        }
      ]
    },
    {
      "cell_type": "markdown",
      "source": [
        "Short Hand If.. Else Statement"
      ],
      "metadata": {
        "id": "Qlv1HYfIS37k"
      }
    },
    {
      "cell_type": "code",
      "source": [
        "print(\"b is greater than a\") if b>a else print (\"a is greater than b\")"
      ],
      "metadata": {
        "colab": {
          "base_uri": "https://localhost:8080/"
        },
        "id": "yT_iI5XJS7Js",
        "outputId": "9b34ec7c-fc65-497c-e0bf-d8fb52db022c"
      },
      "execution_count": 5,
      "outputs": [
        {
          "output_type": "stream",
          "name": "stdout",
          "text": [
            "a is greater than b\n"
          ]
        }
      ]
    },
    {
      "cell_type": "markdown",
      "source": [
        "And - if both conditons are true"
      ],
      "metadata": {
        "id": "qZH3EFpcTA1s"
      }
    },
    {
      "cell_type": "code",
      "source": [
        "a = 100\n",
        "b = 10\n",
        "c = 45\n",
        "\n",
        "if a>b and c>b:\n",
        "  print(\"Both conditions are true\")"
      ],
      "metadata": {
        "colab": {
          "base_uri": "https://localhost:8080/"
        },
        "id": "zTuBqu8xTBf3",
        "outputId": "d301886c-04cf-4e22-b6c8-8a4dfd5034f8"
      },
      "execution_count": 6,
      "outputs": [
        {
          "output_type": "stream",
          "name": "stdout",
          "text": [
            "Both conditions are true\n"
          ]
        }
      ]
    },
    {
      "cell_type": "markdown",
      "source": [
        "Nested If"
      ],
      "metadata": {
        "id": "_wdsLgwITMV3"
      }
    },
    {
      "cell_type": "code",
      "source": [
        "x=int(input())\n",
        "if x>10:\n",
        "  print(\"x is above 10\")\n",
        "  if x>20:\n",
        "    print(\"x is above 20\")\n",
        "    if x>30:\n",
        "      print(\"x is above 30\")\n",
        "      if x>40:\n",
        "        print(\"x is above 40\")\n",
        "      else: \n",
        "        print(\"x is below 40\")\n",
        "else:\n",
        "  print(\"x is below 10\")"
      ],
      "metadata": {
        "colab": {
          "base_uri": "https://localhost:8080/"
        },
        "id": "8baWdTIbTP0q",
        "outputId": "0b4a26ad-db88-47fe-b30e-e609064228c7"
      },
      "execution_count": 6,
      "outputs": [
        {
          "output_type": "stream",
          "name": "stdout",
          "text": [
            "20\n",
            "x is above 10\n"
          ]
        }
      ]
    },
    {
      "cell_type": "markdown",
      "source": [
        "Application 1"
      ],
      "metadata": {
        "id": "31tsunn_Tdks"
      }
    },
    {
      "cell_type": "code",
      "source": [
        "age = int(input())\n",
        "\n",
        "if age>=18:\n",
        "  print(\"You are qualified to vote\")\n",
        "else:\n",
        "  print(\"You are not qualified to vote\")"
      ],
      "metadata": {
        "colab": {
          "base_uri": "https://localhost:8080/"
        },
        "id": "SC-AiJ-2TiZk",
        "outputId": "f9c3ec57-012f-4239-aef1-59854df81f88"
      },
      "execution_count": 5,
      "outputs": [
        {
          "output_type": "stream",
          "name": "stdout",
          "text": [
            "18\n",
            "You are qualified to vote\n"
          ]
        }
      ]
    },
    {
      "cell_type": "markdown",
      "source": [
        "Application 2"
      ],
      "metadata": {
        "id": "dn0zf1e2Tz-g"
      }
    },
    {
      "cell_type": "code",
      "source": [
        "num = int(input())\n",
        "if num==0:\n",
        "  print (\"ZERO\")\n",
        "elif num>0:\n",
        "  print (\"POSITIVE\")\n",
        "elif num<0:\n",
        "  print(\"NEGATIVE\")"
      ],
      "metadata": {
        "colab": {
          "base_uri": "https://localhost:8080/"
        },
        "id": "g1win4H2T2fi",
        "outputId": "1b33155b-8c65-4677-9ae5-bbf41ddc8950"
      },
      "execution_count": 13,
      "outputs": [
        {
          "output_type": "stream",
          "name": "stdout",
          "text": [
            "0\n",
            "ZERO\n"
          ]
        }
      ]
    },
    {
      "cell_type": "markdown",
      "source": [
        "Application 3 - Write a program to determine if the grades are:"
      ],
      "metadata": {
        "id": "qQG4XczMUTZs"
      }
    },
    {
      "cell_type": "code",
      "source": [
        "grade = float(input())\n",
        "\n",
        "if grade >= 70:\n",
        "  print (\"Passed\")\n",
        "elif grade >= 64 and grade <= 69:\n",
        "  print (\"Remedial\")\n",
        "else:\n",
        "  print (\"Failed\")"
      ],
      "metadata": {
        "colab": {
          "base_uri": "https://localhost:8080/"
        },
        "id": "S173gibAUXL2",
        "outputId": "bcfae9dc-2491-4ccf-ddce-1f183ed6a4d4"
      },
      "execution_count": 15,
      "outputs": [
        {
          "output_type": "stream",
          "name": "stdout",
          "text": [
            "70\n",
            "Passed\n"
          ]
        }
      ]
    },
    {
      "cell_type": "markdown",
      "source": [
        "For loop"
      ],
      "metadata": {
        "id": "ShTcDen_U0MZ"
      }
    },
    {
      "cell_type": "code",
      "source": [
        "week=[\"Sunday\", \"Monday\", \"Tuesday\", \"Wednesday\", \"Thursday\", \"Friday\", \"Saturday\"]\n",
        "for x in week:\n",
        "  print(x)"
      ],
      "metadata": {
        "colab": {
          "base_uri": "https://localhost:8080/"
        },
        "id": "1h8jfkhCU033",
        "outputId": "5a285705-c3a9-4f8c-df2b-5e8edf201b83"
      },
      "execution_count": 16,
      "outputs": [
        {
          "output_type": "stream",
          "name": "stdout",
          "text": [
            "Sunday\n",
            "Monday\n",
            "Tuesday\n",
            "Wednesday\n",
            "Thursday\n",
            "Friday\n",
            "Saturday\n"
          ]
        }
      ]
    },
    {
      "cell_type": "markdown",
      "source": [
        "The break statement"
      ],
      "metadata": {
        "id": "PmJVlJkNU3jQ"
      }
    },
    {
      "cell_type": "code",
      "source": [
        "for x in week:\n",
        "  print (x)\n",
        "  if x==\"Friday\":\n",
        "    break"
      ],
      "metadata": {
        "colab": {
          "base_uri": "https://localhost:8080/"
        },
        "id": "rmIxcKQaU7PH",
        "outputId": "6cf9c1d0-93f3-4fdb-9e0e-a5cfae4809bd"
      },
      "execution_count": 17,
      "outputs": [
        {
          "output_type": "stream",
          "name": "stdout",
          "text": [
            "Sunday\n",
            "Monday\n",
            "Tuesday\n",
            "Wednesday\n",
            "Thursday\n",
            "Friday\n"
          ]
        }
      ]
    },
    {
      "cell_type": "markdown",
      "source": [
        "Looping through a string"
      ],
      "metadata": {
        "id": "bm0rlSoiU8p3"
      }
    },
    {
      "cell_type": "code",
      "source": [
        "for x in \"Week\":\n",
        "  print(x)"
      ],
      "metadata": {
        "colab": {
          "base_uri": "https://localhost:8080/"
        },
        "id": "Z-7-aKGMU_UU",
        "outputId": "80d0e933-adc6-46f0-c394-18fb549cb0c1"
      },
      "execution_count": 18,
      "outputs": [
        {
          "output_type": "stream",
          "name": "stdout",
          "text": [
            "W\n",
            "e\n",
            "e\n",
            "k\n"
          ]
        }
      ]
    },
    {
      "cell_type": "markdown",
      "source": [
        "Range() function"
      ],
      "metadata": {
        "id": "uP87vcA8VCkP"
      }
    },
    {
      "cell_type": "code",
      "source": [
        "for x in range(6):\n",
        "  print (x)\n",
        "for x in range(2,6):\n",
        "  print(x)"
      ],
      "metadata": {
        "colab": {
          "base_uri": "https://localhost:8080/"
        },
        "id": "g1fgTq6PVELs",
        "outputId": "aae1c3cf-9884-457e-e487-329601ff2e4e"
      },
      "execution_count": 19,
      "outputs": [
        {
          "output_type": "stream",
          "name": "stdout",
          "text": [
            "0\n",
            "1\n",
            "2\n",
            "3\n",
            "4\n",
            "5\n",
            "2\n",
            "3\n",
            "4\n",
            "5\n"
          ]
        }
      ]
    },
    {
      "cell_type": "markdown",
      "source": [
        "While loop"
      ],
      "metadata": {
        "id": "OOyDuEI3VGjz"
      }
    },
    {
      "cell_type": "code",
      "source": [
        "i = 1\n",
        "while i<6:\n",
        "  print(i)\n",
        "  i+= 1 #same as i = i+1"
      ],
      "metadata": {
        "colab": {
          "base_uri": "https://localhost:8080/"
        },
        "id": "ZOrku4VLVLIb",
        "outputId": "63e4c46b-4db7-4bc6-e8b9-c00c9f13c454"
      },
      "execution_count": 20,
      "outputs": [
        {
          "output_type": "stream",
          "name": "stdout",
          "text": [
            "1\n",
            "2\n",
            "3\n",
            "4\n",
            "5\n"
          ]
        }
      ]
    },
    {
      "cell_type": "code",
      "source": [
        "i =1\n",
        "while i<6:\n",
        "  print(i)\n",
        "  if i ==3:\n",
        "    break\n",
        "  i+=1"
      ],
      "metadata": {
        "colab": {
          "base_uri": "https://localhost:8080/"
        },
        "id": "qv_XyU5WVNT8",
        "outputId": "6c847d9a-3270-46d5-8ae1-12a74bcc649b"
      },
      "execution_count": 21,
      "outputs": [
        {
          "output_type": "stream",
          "name": "stdout",
          "text": [
            "1\n",
            "2\n",
            "3\n"
          ]
        }
      ]
    },
    {
      "cell_type": "markdown",
      "source": [
        "Continue Statement"
      ],
      "metadata": {
        "id": "6NYjBb18VP7y"
      }
    },
    {
      "cell_type": "code",
      "source": [
        "i =1\n",
        "while i<6:\n",
        "  i+=1\n",
        "  if i==3:\n",
        "    continue\n",
        "  print(i)"
      ],
      "metadata": {
        "colab": {
          "base_uri": "https://localhost:8080/"
        },
        "id": "gnU1kicMVSY4",
        "outputId": "34d74a92-1bba-4b01-dbe4-c513104c3ab0"
      },
      "execution_count": 22,
      "outputs": [
        {
          "output_type": "stream",
          "name": "stdout",
          "text": [
            "2\n",
            "4\n",
            "5\n",
            "6\n"
          ]
        }
      ]
    }
  ]
}