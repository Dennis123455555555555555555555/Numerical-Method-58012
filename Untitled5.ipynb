{
  "nbformat": 4,
  "nbformat_minor": 0,
  "metadata": {
    "colab": {
      "name": "Untitled5.ipynb",
      "provenance": [],
      "authorship_tag": "ABX9TyOM0lsDtDUTzDgic6mAc3vC",
      "include_colab_link": true
    },
    "kernelspec": {
      "name": "python3",
      "display_name": "Python 3"
    },
    "language_info": {
      "name": "python"
    }
  },
  "cells": [
    {
      "cell_type": "markdown",
      "metadata": {
        "id": "view-in-github",
        "colab_type": "text"
      },
      "source": [
        "<a href=\"https://colab.research.google.com/github/Dennis123455555555555555555555/Numerical-Method-58012/blob/main/Untitled5.ipynb\" target=\"_parent\"><img src=\"https://colab.research.google.com/assets/colab-badge.svg\" alt=\"Open In Colab\"/></a>"
      ]
    },
    {
      "cell_type": "markdown",
      "source": [
        "If statement"
      ],
      "metadata": {
        "id": "ggjFIWIFSInU"
      }
    },
    {
      "cell_type": "code",
      "source": [
        "a=12\n",
        "b=100\n",
        "if b>a:\n",
        "  print(\"b is greater than a\")"
      ],
      "metadata": {
        "colab": {
          "base_uri": "https://localhost:8080/"
        },
        "id": "k66lrA6lSJY4",
        "outputId": "99ad5a76-7364-41b8-d82d-70a35add5a06"
      },
      "execution_count": 1,
      "outputs": [
        {
          "output_type": "stream",
          "name": "stdout",
          "text": [
            "b is greater than a\n"
          ]
        }
      ]
    },
    {
      "cell_type": "markdown",
      "source": [
        "If Elif Statement"
      ],
      "metadata": {
        "id": "bY4arXcMSigl"
      }
    },
    {
      "cell_type": "code",
      "source": [
        "a = 100\n",
        "b = 10\n",
        "if b>a:\n",
        "  print (\"b is greater than a\")\n",
        "elif a==b:\n",
        "  print(\"a and b are equal\")\n",
        "else:\n",
        "  print(\"a is greater than b\")"
      ],
      "metadata": {
        "colab": {
          "base_uri": "https://localhost:8080/"
        },
        "id": "v6Spq2sUSl48",
        "outputId": "dd3df3f5-11cc-435c-8ac2-95e5529bd999"
      },
      "execution_count": 2,
      "outputs": [
        {
          "output_type": "stream",
          "name": "stdout",
          "text": [
            "a is greater than b\n"
          ]
        }
      ]
    },
    {
      "cell_type": "markdown",
      "source": [
        "Else Statement"
      ],
      "metadata": {
        "id": "01wv1uy2SqVD"
      }
    },
    {
      "cell_type": "code",
      "source": [
        "a = 100\n",
        "b = 10\n",
        "if b>a:\n",
        "  print (\"b is greater than a\")\n",
        "elif a==b:\n",
        "  print (\"a and b are equal\")\n",
        "else:\n",
        "  print (\"a is greater than b\")"
      ],
      "metadata": {
        "colab": {
          "base_uri": "https://localhost:8080/"
        },
        "id": "4HN3qi93SszL",
        "outputId": "78ff2123-afb4-4fd0-d401-81052aeb114d"
      },
      "execution_count": 3,
      "outputs": [
        {
          "output_type": "stream",
          "name": "stdout",
          "text": [
            "a is greater than b\n"
          ]
        }
      ]
    },
    {
      "cell_type": "markdown",
      "source": [
        "Shorthand If statement"
      ],
      "metadata": {
        "id": "A3IjGP5KSyPU"
      }
    },
    {
      "cell_type": "code",
      "source": [
        "if a>b: print(\"a is greater than b\")"
      ],
      "metadata": {
        "colab": {
          "base_uri": "https://localhost:8080/"
        },
        "id": "88IzH8FLS0_z",
        "outputId": "a3d017ac-0dd9-4186-8027-5ed2b267d811"
      },
      "execution_count": 4,
      "outputs": [
        {
          "output_type": "stream",
          "name": "stdout",
          "text": [
            "a is greater than b\n"
          ]
        }
      ]
    },
    {
      "cell_type": "markdown",
      "source": [
        "Short Hand If.. Else Statement"
      ],
      "metadata": {
        "id": "Qlv1HYfIS37k"
      }
    },
    {
      "cell_type": "code",
      "source": [
        "print(\"b is greater than a\") if b>a else print (\"a is greater than b\")"
      ],
      "metadata": {
        "colab": {
          "base_uri": "https://localhost:8080/"
        },
        "id": "yT_iI5XJS7Js",
        "outputId": "9b34ec7c-fc65-497c-e0bf-d8fb52db022c"
      },
      "execution_count": 5,
      "outputs": [
        {
          "output_type": "stream",
          "name": "stdout",
          "text": [
            "a is greater than b\n"
          ]
        }
      ]
    },
    {
      "cell_type": "markdown",
      "source": [
        "And - if both conditons are true"
      ],
      "metadata": {
        "id": "qZH3EFpcTA1s"
      }
    },
    {
      "cell_type": "code",
      "source": [
        "a = 100\n",
        "b = 10\n",
        "c = 45\n",
        "\n",
        "if a>b and c>b:\n",
        "  print(\"Both conditions are true\")"
      ],
      "metadata": {
        "colab": {
          "base_uri": "https://localhost:8080/"
        },
        "id": "zTuBqu8xTBf3",
        "outputId": "d301886c-04cf-4e22-b6c8-8a4dfd5034f8"
      },
      "execution_count": 6,
      "outputs": [
        {
          "output_type": "stream",
          "name": "stdout",
          "text": [
            "Both conditions are true\n"
          ]
        }
      ]
    },
    {
      "cell_type": "markdown",
      "source": [
        "Or - if one of the conditions is true"
      ],
      "metadata": {
        "id": "FtkuTeSoTGYA"
      }
    },
    {
      "cell_type": "code",
      "source": [
        "if a>b or b>c: \n",
        "  print(\"One condition is true\")"
      ],
      "metadata": {
        "id": "-Lhm_-RnTIkJ"
      },
      "execution_count": null,
      "outputs": []
    },
    {
      "cell_type": "markdown",
      "source": [
        "Nested If"
      ],
      "metadata": {
        "id": "_wdsLgwITMV3"
      }
    },
    {
      "cell_type": "code",
      "source": [
        "x=int(input())\n",
        "if x>10:\n",
        "  print(\"x is above 10\")\n",
        "  if x>20:\n",
        "    print(\"x is above 20\")\n",
        "    if x>30:\n",
        "      print(\"x is above 30\")\n",
        "      if x>40:\n",
        "        print(\"x is above 40\")\n",
        "      else: \n",
        "        print(\"x is below 40\")\n",
        "else:\n",
        "  print(\"x is below 10\")"
      ],
      "metadata": {
        "id": "8baWdTIbTP0q"
      },
      "execution_count": null,
      "outputs": []
    },
    {
      "cell_type": "markdown",
      "source": [
        "Application 1"
      ],
      "metadata": {
        "id": "31tsunn_Tdks"
      }
    },
    {
      "cell_type": "code",
      "source": [
        "age = int(input())\n",
        "\n",
        "if age>=18:\n",
        "  print(\"You are qualified to vote\")\n",
        "else:\n",
        "  print(\"You are not qualified to vote\")"
      ],
      "metadata": {
        "id": "SC-AiJ-2TiZk"
      },
      "execution_count": null,
      "outputs": []
    },
    {
      "cell_type": "markdown",
      "source": [
        "Application 2"
      ],
      "metadata": {
        "id": "dn0zf1e2Tz-g"
      }
    },
    {
      "cell_type": "code",
      "source": [
        "num = int(input())\n",
        "if num==0:\n",
        "  print (\"ZERO\")\n",
        "elif num>0:\n",
        "  print (\"POSITIVE\")\n",
        "elif num<0:\n",
        "  print(\"NEGATIVE\")"
      ],
      "metadata": {
        "id": "g1win4H2T2fi"
      },
      "execution_count": null,
      "outputs": []
    },
    {
      "cell_type": "markdown",
      "source": [
        "Application 3 - Write a program to determine if the grades are:"
      ],
      "metadata": {
        "id": "qQG4XczMUTZs"
      }
    },
    {
      "cell_type": "code",
      "source": [
        "grade >= 70 \"Passed\"\n",
        "\n",
        "grade = 64 to 69 \"Remedial\"\n",
        "\n",
        "grade <64 \"Failed\"\n",
        "\n",
        "grade = float(input())\n",
        "\n",
        "if grade >= 70:\n",
        "  print (\"Passed\")\n",
        "elif grade >= 64 and grade <= 69:\n",
        "  print (\"Remedial\")\n",
        "else:\n",
        "  print (\"Failed\")"
      ],
      "metadata": {
        "id": "S173gibAUXL2"
      },
      "execution_count": null,
      "outputs": []
    },
    {
      "cell_type": "markdown",
      "source": [
        "For loop"
      ],
      "metadata": {
        "id": "ShTcDen_U0MZ"
      }
    },
    {
      "cell_type": "code",
      "source": [
        "week=[\"Sunday\", \"Monday\", \"Tuesday\", \"Wednesday\", \"Thursday\", \"Friday\", \"Saturday\"]\n",
        "for x in week:\n",
        "  print(x)"
      ],
      "metadata": {
        "id": "1h8jfkhCU033"
      },
      "execution_count": null,
      "outputs": []
    },
    {
      "cell_type": "markdown",
      "source": [
        "The break statement"
      ],
      "metadata": {
        "id": "PmJVlJkNU3jQ"
      }
    },
    {
      "cell_type": "code",
      "source": [
        "for x in week:\n",
        "  print (x)\n",
        "  if x==\"Friday\":\n",
        "    break"
      ],
      "metadata": {
        "id": "rmIxcKQaU7PH"
      },
      "execution_count": null,
      "outputs": []
    },
    {
      "cell_type": "markdown",
      "source": [
        "Looping through a string"
      ],
      "metadata": {
        "id": "bm0rlSoiU8p3"
      }
    },
    {
      "cell_type": "code",
      "source": [
        "for x in \"Week\":\n",
        "  print(x)"
      ],
      "metadata": {
        "id": "Z-7-aKGMU_UU"
      },
      "execution_count": null,
      "outputs": []
    },
    {
      "cell_type": "markdown",
      "source": [
        "Range() function"
      ],
      "metadata": {
        "id": "uP87vcA8VCkP"
      }
    },
    {
      "cell_type": "code",
      "source": [
        "for x in range(6):\n",
        "  print (x)\n",
        "for x in range(2,6):\n",
        "  print(x)"
      ],
      "metadata": {
        "id": "g1fgTq6PVELs"
      },
      "execution_count": null,
      "outputs": []
    },
    {
      "cell_type": "markdown",
      "source": [
        "While loop"
      ],
      "metadata": {
        "id": "OOyDuEI3VGjz"
      }
    },
    {
      "cell_type": "code",
      "source": [
        "i = 1\n",
        "while i<6:\n",
        "  print(i)\n",
        "  i+= 1 #same as i = i+1"
      ],
      "metadata": {
        "id": "ZOrku4VLVLIb"
      },
      "execution_count": null,
      "outputs": []
    },
    {
      "cell_type": "code",
      "source": [
        "i =1\n",
        "while i<6:\n",
        "  print(i)\n",
        "  if i ==3:\n",
        "    break\n",
        "  i+=1"
      ],
      "metadata": {
        "id": "qv_XyU5WVNT8"
      },
      "execution_count": null,
      "outputs": []
    },
    {
      "cell_type": "markdown",
      "source": [
        "Continue Statement"
      ],
      "metadata": {
        "id": "6NYjBb18VP7y"
      }
    },
    {
      "cell_type": "code",
      "source": [
        "i =1\n",
        "while i<6:\n",
        "  i+=1\n",
        "  if i==3:\n",
        "    continue\n",
        "  print(i)"
      ],
      "metadata": {
        "id": "gnU1kicMVSY4"
      },
      "execution_count": null,
      "outputs": []
    }
  ]
}